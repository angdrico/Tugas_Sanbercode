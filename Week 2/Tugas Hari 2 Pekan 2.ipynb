{
  "nbformat": 4,
  "nbformat_minor": 0,
  "metadata": {
    "kernelspec": {
      "display_name": "Python 3",
      "language": "python",
      "name": "python3"
    },
    "language_info": {
      "codemirror_mode": {
        "name": "ipython",
        "version": 3
      },
      "file_extension": ".py",
      "mimetype": "text/x-python",
      "name": "python",
      "nbconvert_exporter": "python",
      "pygments_lexer": "ipython3",
      "version": "3.7.7"
    },
    "colab": {
      "name": "Tugas Hari 2 Pekan 2.ipynb",
      "provenance": [],
      "collapsed_sections": []
    }
  },
  "cells": [
    {
      "cell_type": "code",
      "metadata": {
        "colab": {
          "base_uri": "https://localhost:8080/",
          "height": 423
        },
        "id": "qt5hFjS-8sej",
        "outputId": "dc31d2f3-8c9c-4830-b169-05bd80ed4660"
      },
      "source": [
        "#data preparation\n",
        "import pandas as pd\n",
        "\n",
        "df = pd.read_csv('Students Performance.csv')\n",
        "\n",
        "df"
      ],
      "execution_count": null,
      "outputs": [
        {
          "output_type": "execute_result",
          "data": {
            "text/html": [
              "<div>\n",
              "<style scoped>\n",
              "    .dataframe tbody tr th:only-of-type {\n",
              "        vertical-align: middle;\n",
              "    }\n",
              "\n",
              "    .dataframe tbody tr th {\n",
              "        vertical-align: top;\n",
              "    }\n",
              "\n",
              "    .dataframe thead th {\n",
              "        text-align: right;\n",
              "    }\n",
              "</style>\n",
              "<table border=\"1\" class=\"dataframe\">\n",
              "  <thead>\n",
              "    <tr style=\"text-align: right;\">\n",
              "      <th></th>\n",
              "      <th>gender</th>\n",
              "      <th>parental level of education</th>\n",
              "      <th>test preparation course</th>\n",
              "      <th>nilai</th>\n",
              "    </tr>\n",
              "  </thead>\n",
              "  <tbody>\n",
              "    <tr>\n",
              "      <th>0</th>\n",
              "      <td>male</td>\n",
              "      <td>some college</td>\n",
              "      <td>none</td>\n",
              "      <td>43</td>\n",
              "    </tr>\n",
              "    <tr>\n",
              "      <th>1</th>\n",
              "      <td>male</td>\n",
              "      <td>some high school</td>\n",
              "      <td>completed</td>\n",
              "      <td>77</td>\n",
              "    </tr>\n",
              "    <tr>\n",
              "      <th>2</th>\n",
              "      <td>male</td>\n",
              "      <td>some college</td>\n",
              "      <td>completed</td>\n",
              "      <td>83</td>\n",
              "    </tr>\n",
              "    <tr>\n",
              "      <th>3</th>\n",
              "      <td>male</td>\n",
              "      <td>bachelor degree</td>\n",
              "      <td>completed</td>\n",
              "      <td>83</td>\n",
              "    </tr>\n",
              "    <tr>\n",
              "      <th>4</th>\n",
              "      <td>female</td>\n",
              "      <td>bachelor degree</td>\n",
              "      <td>none</td>\n",
              "      <td>73</td>\n",
              "    </tr>\n",
              "    <tr>\n",
              "      <th>...</th>\n",
              "      <td>...</td>\n",
              "      <td>...</td>\n",
              "      <td>...</td>\n",
              "      <td>...</td>\n",
              "    </tr>\n",
              "    <tr>\n",
              "      <th>95</th>\n",
              "      <td>male</td>\n",
              "      <td>high school</td>\n",
              "      <td>none</td>\n",
              "      <td>30</td>\n",
              "    </tr>\n",
              "    <tr>\n",
              "      <th>96</th>\n",
              "      <td>female</td>\n",
              "      <td>high school</td>\n",
              "      <td>none</td>\n",
              "      <td>62</td>\n",
              "    </tr>\n",
              "    <tr>\n",
              "      <th>97</th>\n",
              "      <td>male</td>\n",
              "      <td>high school</td>\n",
              "      <td>none</td>\n",
              "      <td>71</td>\n",
              "    </tr>\n",
              "    <tr>\n",
              "      <th>98</th>\n",
              "      <td>male</td>\n",
              "      <td>associate degree</td>\n",
              "      <td>none</td>\n",
              "      <td>66</td>\n",
              "    </tr>\n",
              "    <tr>\n",
              "      <th>99</th>\n",
              "      <td>male</td>\n",
              "      <td>some college</td>\n",
              "      <td>completed</td>\n",
              "      <td>85</td>\n",
              "    </tr>\n",
              "  </tbody>\n",
              "</table>\n",
              "<p>100 rows × 4 columns</p>\n",
              "</div>"
            ],
            "text/plain": [
              "    gender parental level of education test preparation course  nilai\n",
              "0     male                some college                    none     43\n",
              "1     male            some high school               completed     77\n",
              "2     male                some college               completed     83\n",
              "3     male             bachelor degree               completed     83\n",
              "4   female             bachelor degree                    none     73\n",
              "..     ...                         ...                     ...    ...\n",
              "95    male                 high school                    none     30\n",
              "96  female                 high school                    none     62\n",
              "97    male                 high school                    none     71\n",
              "98    male            associate degree                    none     66\n",
              "99    male                some college               completed     85\n",
              "\n",
              "[100 rows x 4 columns]"
            ]
          },
          "metadata": {},
          "execution_count": 23
        }
      ]
    },
    {
      "cell_type": "markdown",
      "metadata": {
        "id": "IQBqZzEmOvYG"
      },
      "source": [
        "\n",
        "\n",
        "---\n",
        "\n",
        "\n",
        "\n",
        "---\n",
        "\n"
      ]
    },
    {
      "cell_type": "markdown",
      "metadata": {
        "id": "aNoScqypBGr5"
      },
      "source": [
        "<h2>Soal 1: Indexing</h2>\n",
        "\n",
        "1. Lakukan indexing terhadap dataframe untuk mengakses column 'gender' dan 'parental level of education' saja\n",
        "2. Lakukan indexing terhadap dataframe untuk mengakses row 10 sampai 20 beserta column 'test preparation course' dan 'nilai'"
      ]
    },
    {
      "cell_type": "code",
      "metadata": {
        "id": "p1u_riDtIthb"
      },
      "source": [
        "#code here\n"
      ],
      "execution_count": null,
      "outputs": []
    },
    {
      "cell_type": "markdown",
      "metadata": {
        "id": "57h66nFwJ6Kn"
      },
      "source": [
        "Expected output :\n",
        "\n",
        "poin a:\n",
        "\n",
        "![alt text](https://drive.google.com/uc?id=10IktjvsNtqzhq7H7vrP7wvQTVx5EWJjA)\n",
        "\n",
        "\n",
        "poin b:\n",
        "\n",
        "![alt text](https://drive.google.com/uc?id=1Dc2OdbTATwZRsPC24rSH3citYmfyrVHv)"
      ]
    },
    {
      "cell_type": "markdown",
      "metadata": {
        "id": "Kxwr0vGIO_bE"
      },
      "source": [
        "\n",
        "\n",
        "---\n",
        "\n",
        "\n",
        "\n",
        "---\n",
        "\n"
      ]
    },
    {
      "cell_type": "markdown",
      "metadata": {
        "id": "F55zUl5GBGr_"
      },
      "source": [
        "<h2>Soal 2: Filter DataFrame Dengan Boolean</h2>\n",
        "\n",
        "1. Tampilkan semua data siswa yang level pendidikan orang tuanya 'high school' dan 'bachelor degree'\n",
        "2. Tampilkan semua data siswa yang mempunyai nilai lebih dari 50 dengan test preparation course 'completed'\n",
        "3. Tampilkan semua data siswa yang mempunyai nilai lebih dari 70, berjenis kelamin perempuan dengan test preparation course 'completed'"
      ]
    },
    {
      "cell_type": "code",
      "metadata": {
        "id": "gpSzH5s6N3mb"
      },
      "source": [
        "#code here\n"
      ],
      "execution_count": null,
      "outputs": []
    },
    {
      "cell_type": "markdown",
      "metadata": {
        "id": "LlAif9svN5G0"
      },
      "source": [
        "Expected output: \n",
        "\n",
        "poin a:(tampilan hanya sebagian)\n",
        "\n",
        "![alt text](https://drive.google.com/uc?id=1UiNs119fMKgPVa1SiIZxojC5iOkW2Ub1)\n",
        "\n",
        "\n",
        "poin b: (tampilan hanya sebagian)\n",
        "\n",
        "![alt text](https://drive.google.com/uc?id=13fc9IaUbwfzLiNgX6jEoLLuUjYli_YJq)\n",
        "\n",
        "poin c:\n",
        "\n",
        "![alt text](https://drive.google.com/uc?id=1SYby1GosYEyMQ26KdGOzvL48cKXpikp1)\n"
      ]
    },
    {
      "cell_type": "markdown",
      "metadata": {
        "id": "B3PIumZlPEjn"
      },
      "source": [
        "\n",
        "\n",
        "---\n",
        "\n",
        "\n",
        "\n",
        "---\n",
        "\n"
      ]
    },
    {
      "cell_type": "markdown",
      "metadata": {
        "id": "6Od6R3H1BGsE"
      },
      "source": [
        "<h2>Soal 3: Data Transformation</h2>\n",
        "\n",
        "lakukan data transformasi terhadap column 'nilai' dengan fungsi transformasi, berikut rumus dari normalisasi\n",
        "\n",
        "![alt text](https://drive.google.com/uc?id=1wed-EbRSTA0JP1ceDp6lcKBqH2yJ4aa3)"
      ]
    },
    {
      "cell_type": "code",
      "metadata": {
        "id": "RNnFVJ-AOoh1"
      },
      "source": [
        "#code here\n"
      ],
      "execution_count": null,
      "outputs": []
    },
    {
      "cell_type": "markdown",
      "metadata": {
        "id": "6FYWaSjKPGeT"
      },
      "source": [
        "\n",
        "\n",
        "---\n",
        "\n",
        "\n",
        "\n",
        "---\n",
        "\n"
      ]
    }
  ]
}
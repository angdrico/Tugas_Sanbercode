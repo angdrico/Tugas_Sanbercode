{
 "cells": [
  {
   "cell_type": "markdown",
   "metadata": {
    "id": "a9HYUdCUsrKl"
   },
   "source": [
    "<h2>Soal 1: Comparison Operator</h2>\n",
    "\n",
    "- Berikan contoh comparison dari tipe data string\n",
    "- Berikan contoh comparison dari tipe data boolean\n",
    "- Berikan contoh comparison dari tipe data integer"
   ]
  },
  {
   "cell_type": "code",
   "execution_count": 1,
   "metadata": {
    "id": "fUFkFOt0afUL"
   },
   "outputs": [
    {
     "name": "stdout",
     "output_type": "stream",
     "text": [
      "False\n",
      "True\n"
     ]
    }
   ],
   "source": [
    "# string comparison\n",
    "\n",
    "a = 'Hello'\n",
    "\n",
    "print(a == 'hello')\n",
    "print(a == 'Hello')"
   ]
  },
  {
   "cell_type": "code",
   "execution_count": 2,
   "metadata": {},
   "outputs": [
    {
     "name": "stdout",
     "output_type": "stream",
     "text": [
      "False\n",
      "True\n",
      "True\n",
      "False\n"
     ]
    }
   ],
   "source": [
    "# boolean comparison\n",
    "Nanda = {'Uang Kas': True,\n",
    "        'Gaji': False}\n",
    "\n",
    "print(Nanda['Gaji'] == True)\n",
    "print(Nanda['Gaji'] == False)\n",
    "\n",
    "print(Nanda['Uang Kas'] == True)\n",
    "print(Nanda['Uang Kas'] == False)"
   ]
  },
  {
   "cell_type": "code",
   "execution_count": 3,
   "metadata": {},
   "outputs": [
    {
     "name": "stdout",
     "output_type": "stream",
     "text": [
      "True\n",
      "False\n",
      "True\n",
      "False\n",
      "True\n"
     ]
    }
   ],
   "source": [
    "# integer comparison\n",
    "\n",
    "a = 3\n",
    "b = 10\n",
    "\n",
    "print(a != b)\n",
    "print(a > b)\n",
    "print(b > a)\n",
    "print(3*a > b)\n",
    "print(2*a > b/2)"
   ]
  },
  {
   "cell_type": "markdown",
   "metadata": {
    "id": "XeywALwwhZn7"
   },
   "source": [
    "\n",
    "\n",
    "---\n",
    "\n",
    "\n",
    "\n",
    "---\n",
    "\n"
   ]
  },
  {
   "cell_type": "markdown",
   "metadata": {
    "id": "IbNoZvVssrK5"
   },
   "source": [
    "<h2>Soal 2: Boolean Comparison</h2>\n",
    "\n",
    "- Berikan contoh gabungan multiple comparison menggunkan Boolean Comparisin 'and'\n",
    "- Berikan contoh gabungan multiple comparison menggunkan Boolean Comparisin 'or'\n",
    "- Berikan contoh gabungan multiple comparison menggunkan Boolean Comparisin 'not'"
   ]
  },
  {
   "cell_type": "code",
   "execution_count": 4,
   "metadata": {
    "scrolled": true
   },
   "outputs": [
    {
     "name": "stdout",
     "output_type": "stream",
     "text": [
      "True\n",
      "False\n",
      "True\n"
     ]
    }
   ],
   "source": [
    "# Boolean comparison 'AND'\n",
    "a = 3\n",
    "b = 5\n",
    "c = 10\n",
    "\n",
    "print(a < b and b <= c)\n",
    "print(a > b and a < c)\n",
    "print(c > a and a != c)"
   ]
  },
  {
   "cell_type": "code",
   "execution_count": 5,
   "metadata": {},
   "outputs": [
    {
     "name": "stdout",
     "output_type": "stream",
     "text": [
      "False\n",
      "True\n",
      "True\n"
     ]
    }
   ],
   "source": [
    "# Boolean comparison 'or'\n",
    "\n",
    "a = 2\n",
    "b = 6\n",
    "c = 9\n",
    "\n",
    "print(a == b or a == c)\n",
    "print(c == a or a < b)\n",
    "print(c > a or a > b)"
   ]
  },
  {
   "cell_type": "code",
   "execution_count": 6,
   "metadata": {},
   "outputs": [
    {
     "name": "stdout",
     "output_type": "stream",
     "text": [
      "True\n",
      "True\n",
      "False\n"
     ]
    }
   ],
   "source": [
    "# Boolean comparison 'NOT'\n",
    "\n",
    "a = 5\n",
    "b = 9\n",
    "c = 11\n",
    "print(a < b and not a > c)\n",
    "print(b >= a and not a == c)\n",
    "print(a > b and not c < a)"
   ]
  },
  {
   "cell_type": "markdown",
   "metadata": {
    "id": "Y3ejsyvqhciI"
   },
   "source": [
    "\n",
    "\n",
    "---\n",
    "\n",
    "---\n",
    "\n"
   ]
  },
  {
   "cell_type": "markdown",
   "metadata": {
    "id": "Yp_g_sPMsrLH"
   },
   "source": [
    "<h2>Soal 3: If-Else Statement</h2>\n",
    "\n",
    "Lengkapi kode untuk menghasilkan suatu output yang di harapkan\n",
    "\n",
    "- Bualah sebuah if-else statement yang dimana akan mem-print 'High' jika grade adalah 'A' dan price lebih dari 100000, kemudian mem-print 'Medium' jika grade adalah 'A' dan price lebih dari 50000 dan memprint 'low' jika grade adalah 'A' dan price lebih kecil dan sama dengan 50000."
   ]
  },
  {
   "cell_type": "code",
   "execution_count": 8,
   "metadata": {
    "id": "2PPsaN50c9ew"
   },
   "outputs": [
    {
     "name": "stdout",
     "output_type": "stream",
     "text": [
      "low\n"
     ]
    }
   ],
   "source": [
    "grade = 'A'\n",
    "price = 50000\n",
    "\n",
    "if grade == 'A':\n",
    "    if price > 100000:\n",
    "        print('High')\n",
    "    elif price > 50000:\n",
    "        print('Medium')\n",
    "    elif price <= 50000:\n",
    "        print('low')"
   ]
  },
  {
   "cell_type": "markdown",
   "metadata": {
    "id": "FkSxKlMNhfzn"
   },
   "source": [
    "\n",
    "\n",
    "---\n",
    "\n",
    "\n",
    "\n",
    "---\n",
    "\n"
   ]
  },
  {
   "cell_type": "markdown",
   "metadata": {
    "id": "IcoJXJT1srLW"
   },
   "source": [
    "<h2>Soal 4: Comparison Operator dengan fungsi</h2>\n",
    "\n",
    "Buatlah sebuah fungsi yang menerima satu argument bertipe data numeric dan menghasilkan sebuah return sebagai berikut :\n",
    "- menghasilkan return 'Aneh' jika nilai dari argument tersebut adalah bilangan ganjil\n",
    "- menghasilkan return 'Tidak Aneh' jika nilai dari argument tersebut adalah bilangan genap dan diantara nilai 2 sampai 5 (2 dan 5 termasuk)\n",
    "- menghasilkan return 'Aneh' jika nilai dari argument tersebut adalah bilangan genap dan diantara nilai 6 sampai 20 (6 dan 20 termasuk)\n",
    "- menghasilkan return 'Tidak Aneh' jika nilai dari argument tersebut adalah bilangan genap dan lebih besari dari 20"
   ]
  },
  {
   "cell_type": "code",
   "execution_count": 9,
   "metadata": {
    "id": "oGXGd_MhdH9D"
   },
   "outputs": [
    {
     "name": "stdout",
     "output_type": "stream",
     "text": [
      "Aneh\n",
      "Tidak Aneh\n",
      "Aneh\n",
      "Tidak Aneh\n"
     ]
    }
   ],
   "source": [
    "def compare(num):\n",
    "    if num % 2 == 1:\n",
    "        return 'Aneh'\n",
    "    elif num % 2 == 0:\n",
    "        if num in range(2,6):\n",
    "            return 'Tidak Aneh'\n",
    "        elif num in range (6,21):\n",
    "            return 'Aneh'\n",
    "        elif num >20:\n",
    "            return 'Tidak Aneh'\n",
    "    \n",
    "print(compare(17)) # case 1 ganjil\n",
    "print(compare(4)) # case 2 in (2,5) inclusively\n",
    "print(compare(20)) # case 3 in (6,20) inclusively\n",
    "print(compare(120)) # case 4 genap >20\n",
    "        "
   ]
  },
  {
   "cell_type": "markdown",
   "metadata": {
    "id": "QxKrmLcchhvf"
   },
   "source": [
    "\n",
    "\n",
    "---\n",
    "\n",
    "\n",
    "\n",
    "---\n",
    "\n"
   ]
  },
  {
   "cell_type": "markdown",
   "metadata": {
    "id": "gf0D64xOsrLl"
   },
   "source": [
    "<h2>Soal 5: While Loop dan For Loop</h2>\n",
    "\n",
    "- Apa perbedaan while loop dan for loop?\n",
    "- Berikan contoh sederhana cara menggunakan while loop dan for loop"
   ]
  },
  {
   "cell_type": "markdown",
   "metadata": {
    "id": "cSrE7RbvdXWe"
   },
   "source": [
    "**While Loop** digunakan untuk menjalankan loop selama kondisi yang diberikan masih terpenuhi. Penggunaan while loop dipilih jika iterasi ingin dilakukan tidak berdasar pada jumlah *iterable*, tapi pada suatu syarat/kondisi tertentu.\n",
    "\n",
    "Sedangkan **For Loop** digunakan untuk menjalankan loop yang dapat diketahui jumlah iterasinya. Penggunakan for loop dipilih jika iterasi yang diinginkan tidak berdasarkan pada suatu kondisi, melainkan pada suatu *iterable* yang sudah diketahui jumlahnya,"
   ]
  },
  {
   "cell_type": "code",
   "execution_count": 10,
   "metadata": {
    "id": "RSf-gg-rdY35"
   },
   "outputs": [
    {
     "name": "stdout",
     "output_type": "stream",
     "text": [
      "Hasil While Loop: \n",
      "\n",
      "a = 0\n",
      "Setelah iterasi ke-1, a ditambahkan menjadi 1\n",
      "Setelah iterasi ke-2, a ditambahkan menjadi 2\n",
      "Setelah iterasi ke-3, a ditambahkan menjadi 3\n",
      "Setelah iterasi ke-4, a ditambahkan menjadi 4\n",
      "Setelah iterasi ke-5, a ditambahkan menjadi 5\n",
      "a sudah bernilai 5, kondisi sudah tidak terpenuhi, iterasi berhenti\n",
      "\n",
      "Hasil For Loop: \n",
      "\n",
      "Anggota indeks ke-0 adalah Ari\n",
      "Anggota indeks ke-1 adalah Bayu\n",
      "Anggota indeks ke-2 adalah Chia\n",
      "Anggota indeks ke-3 adalah Dea\n",
      "Anggota indeks ke-4 adalah Edy\n",
      "Iterasi berhenti karena sudah semua anggota list diiterasikan\n"
     ]
    }
   ],
   "source": [
    "a = 0\n",
    "b = ['Ari','Bayu','Chia','Dea','Edy']\n",
    "b_size = range(len(b))\n",
    "\n",
    "print('Hasil While Loop: \\n')\n",
    "print('a =',a)\n",
    "while a < 5:\n",
    "    print('Setelah iterasi ke-{}, {} ditambahkan menjadi {}'.format(a+1,'a',a+1))\n",
    "    a +=1\n",
    "print('a sudah bernilai ',a,\", kondisi sudah tidak terpenuhi, iterasi berhenti\",sep=\"\")\n",
    "\n",
    "print('\\nHasil For Loop: \\n')\n",
    "for i in b_size:\n",
    "    print('Anggota indeks ke-{} adalah {}'.format(b_size[i],b[i]))\n",
    "print('Iterasi berhenti karena sudah semua anggota list diiterasikan')\n",
    "    \n"
   ]
  },
  {
   "cell_type": "markdown",
   "metadata": {
    "id": "xJq6aaArhlDN"
   },
   "source": [
    "\n",
    "\n",
    "---\n",
    "\n",
    "\n",
    "\n",
    "---\n",
    "\n"
   ]
  },
  {
   "cell_type": "markdown",
   "metadata": {
    "id": "fZQpBGCgsrLz"
   },
   "source": [
    "<h2>Soal 6: While Loop</h2>\n",
    "    \n",
    "Buatlah sebuah code while loop sebagai berikut :\n",
    "- Buatlah suatu fungsi yang menerima satu input nilai numerik\n",
    "- Dalam fungsi, Buat sebuah while-loop dengan melakukan comparasi terhadap inputan tersebut, dimana looping/iterasi terus berjalan apabila nilai inputan tidak sama dengan 0\n",
    "- Dalam setiap iterasi update nilai variable inputan itu, jika input lebih dari 0, maka kurangi variabel tersebut sebesar 1, selain itu tambahkan 1\n",
    "- print nilai variable input dalam setiap awal iterasi"
   ]
  },
  {
   "cell_type": "code",
   "execution_count": 20,
   "metadata": {
    "id": "uc6N4UmedrU6"
   },
   "outputs": [
    {
     "name": "stdout",
     "output_type": "stream",
     "text": [
      "Jika a = 10\n",
      "\n",
      "a = 10\n",
      "a = 9\n",
      "a = 8\n",
      "a = 7\n",
      "a = 6\n",
      "a = 5\n",
      "a = 4\n",
      "a = 3\n",
      "a = 2\n",
      "a = 1\n",
      "\n",
      "Jika a = -10\n",
      "\n",
      "a = -10\n",
      "a = -9\n",
      "a = -8\n",
      "a = -7\n",
      "a = -6\n",
      "a = -5\n",
      "a = -4\n",
      "a = -3\n",
      "a = -2\n",
      "a = -1\n"
     ]
    }
   ],
   "source": [
    "\n",
    "\n",
    "def fungsi_while(num):\n",
    "    if num > 0:\n",
    "        print('Jika a = {}\\n'.format(num))\n",
    "        while num>0:\n",
    "            print('a = {}'.format(num))\n",
    "            num -=1\n",
    "    elif num < 0:\n",
    "        print('Jika a = {}\\n'.format(num))\n",
    "        while num <0:\n",
    "            print('a = {}'.format(num))\n",
    "            num +=1\n",
    "    else:\n",
    "        return print('a =',num)\n",
    "\n",
    "fungsi_while(10)\n",
    "print('')\n",
    "fungsi_while(-10)"
   ]
  },
  {
   "cell_type": "markdown",
   "metadata": {
    "id": "lKzngRrlsrMD"
   },
   "source": [
    "Expected Output:\n",
    "\n",
    "jika a = 10                           \n",
    "\n",
    "10                                   \n",
    "9                      \n",
    "8   \n",
    "7   \n",
    "6  \n",
    "5  \n",
    "4  \n",
    "3  \n",
    "2  \n",
    "1\n",
    "\n",
    "jika a = -10\n",
    "\n",
    "-10                                   \n",
    "-9                        \n",
    "-8  \n",
    "-7  \n",
    "-6  \n",
    "-5  \n",
    "-4  \n",
    "-3  \n",
    "-2  \n",
    "-1\n"
   ]
  },
  {
   "cell_type": "markdown",
   "metadata": {
    "id": "MhdhusMnhn8L"
   },
   "source": [
    "\n",
    "\n",
    "---\n",
    "\n",
    "\n",
    "\n",
    "---\n",
    "\n"
   ]
  },
  {
   "cell_type": "markdown",
   "metadata": {
    "id": "DnAUJ4TzgmOp"
   },
   "source": [
    "<h2>Soal 7: For Loop</h2>\n",
    "\n",
    "Lengkapi kode untuk menghasilkan suatu output yang diharapkan:\n",
    "\n",
    "\n",
    "\n",
    "\n",
    "\n",
    "*   Cari siswa mana saja yang memiliki nilai lebih dari sama dengan 80. Masukkan kedalam sebuah list. print hasilnya\n",
    "\n",
    "\n",
    "\n",
    "\n"
   ]
  },
  {
   "cell_type": "code",
   "execution_count": 21,
   "metadata": {
    "id": "aeuMIX8_hGCW"
   },
   "outputs": [],
   "source": [
    "data_siswa = [\n",
    "    {\n",
    "        \"nama\":\"Budi\",\n",
    "        \"nilai\": 90\n",
    "    },\n",
    "    {\n",
    "        \"nama\":\"Nina\",\n",
    "        \"nilai\": 78\n",
    "    },\n",
    "    {\n",
    "        \"nama\":\"Rudi\",\n",
    "        \"nilai\": 91\n",
    "    },\n",
    "    {\n",
    "        \"nama\":\"Olivia\",\n",
    "        \"nilai\": 76\n",
    "    },\n",
    "    {\n",
    "        \"nama\":\"Leo\",\n",
    "        \"nilai\": 80\n",
    "    },\n",
    "    {\n",
    "        \"nama\":\"Liam\",\n",
    "        \"nilai\": 67\n",
    "    },\n",
    "    {\n",
    "        \"nama\":\"Sheila\",\n",
    "        \"nilai\": 76\n",
    "    }\n",
    "]"
   ]
  },
  {
   "cell_type": "code",
   "execution_count": 22,
   "metadata": {
    "id": "XlQsAeOchKLP"
   },
   "outputs": [
    {
     "name": "stdout",
     "output_type": "stream",
     "text": [
      "['Budi', 'Rudi', 'Leo']\n"
     ]
    }
   ],
   "source": [
    "res = []\n",
    "for i in range(len(data_siswa)):\n",
    "    if data_siswa[i]['nilai'] >= 80:\n",
    "        res.append(data_siswa[i]['nama'])\n",
    "print(res)\n",
    "        "
   ]
  },
  {
   "cell_type": "markdown",
   "metadata": {
    "id": "xIFJBG5PhL_5"
   },
   "source": [
    "Expected output:\n",
    "\n",
    "['Budi', 'Rudi', 'Leo']"
   ]
  },
  {
   "cell_type": "markdown",
   "metadata": {
    "id": "6qKCmZB0hqH9"
   },
   "source": [
    "\n",
    "\n",
    "---\n",
    "\n",
    "\n",
    "\n",
    "---\n",
    "\n"
   ]
  },
  {
   "cell_type": "markdown",
   "metadata": {
    "id": "IWg3Z_zZsrMG"
   },
   "source": [
    "<h2>Soal 8: For Loop Enumerate</h2>\n",
    "    \n",
    "Lengkapi kode untuk menghasilkan suatu output yang di harapkan:\n",
    "\n",
    "- Buatlah sebuah loop dengan mengiterasi sebuah objek list kemudian di kalikan dengan index dari list tersebut dan print hasilnya"
   ]
  },
  {
   "cell_type": "code",
   "execution_count": 23,
   "metadata": {
    "id": "wvxcRiq2gYS9"
   },
   "outputs": [
    {
     "name": "stdout",
     "output_type": "stream",
     "text": [
      "0\n",
      "16\n",
      "22\n",
      "30\n",
      "20\n"
     ]
    }
   ],
   "source": [
    "obj_list= [1, 16, 11, 10, 5]\n",
    "\n",
    "\n",
    "for i in range(len(obj_list)):\n",
    "    print(i*obj_list[i])"
   ]
  },
  {
   "cell_type": "markdown",
   "metadata": {
    "id": "OGawROjnsrMU"
   },
   "source": [
    "Expected Output:\n",
    "\n",
    "0\n",
    "\n",
    "16\n",
    "\n",
    "22\n",
    "\n",
    "30\n",
    "\n",
    "20\n"
   ]
  },
  {
   "cell_type": "markdown",
   "metadata": {
    "id": "BEaVi_Z5hror"
   },
   "source": [
    "\n",
    "\n",
    "---\n",
    "\n",
    "\n",
    "\n",
    "---\n",
    "\n"
   ]
  }
 ],
 "metadata": {
  "colab": {
   "collapsed_sections": [],
   "name": " Tugas Hari 4.ipynb",
   "provenance": []
  },
  "kernelspec": {
   "display_name": "Python 3 (ipykernel)",
   "language": "python",
   "name": "python3"
  },
  "language_info": {
   "codemirror_mode": {
    "name": "ipython",
    "version": 3
   },
   "file_extension": ".py",
   "mimetype": "text/x-python",
   "name": "python",
   "nbconvert_exporter": "python",
   "pygments_lexer": "ipython3",
   "version": "3.9.12"
  }
 },
 "nbformat": 4,
 "nbformat_minor": 1
}
